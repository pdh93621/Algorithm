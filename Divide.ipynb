{
 "cells": [
  {
   "cell_type": "code",
   "execution_count": 8,
   "metadata": {},
   "outputs": [
    {
     "name": "stdout",
     "output_type": "stream",
     "text": [
      "나눠지는 수: 16\n",
      "나누는 수: 5\n"
     ]
    }
   ],
   "source": [
    "N = int(input('나눠지는 수: '))\n",
    "K = int(input('나누는 수: '))"
   ]
  },
  {
   "cell_type": "code",
   "execution_count": 9,
   "metadata": {},
   "outputs": [
    {
     "name": "stdout",
     "output_type": "stream",
     "text": [
      "4\n"
     ]
    }
   ],
   "source": [
    "count = 0\n",
    "\n",
    "while N != 1:\n",
    "    temp = (N//K) * K\n",
    "    count += N - temp\n",
    "    N = temp\n",
    "    \n",
    "    if K > N:\n",
    "        break\n",
    "    \n",
    "    N //= K\n",
    "    count += 1\n",
    "    \n",
    "count += (N-1)\n",
    "print(count)\n",
    "        \n",
    "    \n",
    "    \n",
    "        "
   ]
  }
 ],
 "metadata": {
  "kernelspec": {
   "display_name": "Python 3",
   "language": "python",
   "name": "python3"
  },
  "language_info": {
   "codemirror_mode": {
    "name": "ipython",
    "version": 3
   },
   "file_extension": ".py",
   "mimetype": "text/x-python",
   "name": "python",
   "nbconvert_exporter": "python",
   "pygments_lexer": "ipython3",
   "version": "3.8.5"
  }
 },
 "nbformat": 4,
 "nbformat_minor": 4
}
