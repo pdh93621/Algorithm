{
 "cells": [
  {
   "cell_type": "code",
   "execution_count": 4,
   "metadata": {},
   "outputs": [
    {
     "name": "stdout",
     "output_type": "stream",
     "text": [
      "AJKDLSI412K4JSJ9D\n"
     ]
    }
   ],
   "source": [
    "seq = input()"
   ]
  },
  {
   "cell_type": "code",
   "execution_count": 5,
   "metadata": {},
   "outputs": [
    {
     "name": "stdout",
     "output_type": "stream",
     "text": [
      "ADDIJJJKKLSS20\n"
     ]
    }
   ],
   "source": [
    "result = []\n",
    "num = 0\n",
    "count_alpha = 0\n",
    "\n",
    "for s in seq:\n",
    "    if s.isalpha():\n",
    "        result.append(s)\n",
    "        count_alpha += 1\n",
    "    else:\n",
    "        num += int(s)\n",
    "        \n",
    "result.sort()\n",
    "if count_alpha != len(seq):\n",
    "    result.append(str(num))\n",
    "    \n",
    "print(''.join(result))\n",
    "    "
   ]
  }
 ],
 "metadata": {
  "kernelspec": {
   "display_name": "Python 3",
   "language": "python",
   "name": "python3"
  },
  "language_info": {
   "codemirror_mode": {
    "name": "ipython",
    "version": 3
   },
   "file_extension": ".py",
   "mimetype": "text/x-python",
   "name": "python",
   "nbconvert_exporter": "python",
   "pygments_lexer": "ipython3",
   "version": "3.8.5"
  }
 },
 "nbformat": 4,
 "nbformat_minor": 4
}
