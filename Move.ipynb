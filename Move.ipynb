{
 "cells": [
  {
   "cell_type": "code",
   "execution_count": 1,
   "metadata": {},
   "outputs": [
    {
     "name": "stdout",
     "output_type": "stream",
     "text": [
      "5\n",
      "R R R U D D\n"
     ]
    }
   ],
   "source": [
    "N = int(input())\n",
    "move = input().split()"
   ]
  },
  {
   "cell_type": "code",
   "execution_count": 2,
   "metadata": {},
   "outputs": [
    {
     "name": "stdout",
     "output_type": "stream",
     "text": [
      "['R', 'R', 'R', 'U', 'D', 'D']\n"
     ]
    }
   ],
   "source": [
    "print(move)"
   ]
  },
  {
   "cell_type": "code",
   "execution_count": 4,
   "metadata": {},
   "outputs": [
    {
     "name": "stdout",
     "output_type": "stream",
     "text": [
      "3\n"
     ]
    }
   ],
   "source": [
    "print(move.index('U'))"
   ]
  },
  {
   "cell_type": "code",
   "execution_count": 6,
   "metadata": {},
   "outputs": [
    {
     "name": "stdout",
     "output_type": "stream",
     "text": [
      "3 4\n"
     ]
    }
   ],
   "source": [
    "directions = ['L', 'R', 'U', 'D']\n",
    "x_dir = [-1, 1, 0, 0]\n",
    "y_dir = [0, 0, -1, 1]\n",
    "\n",
    "#(x, y)\n",
    "x = 1\n",
    "y = 1\n",
    "\n",
    "for m in move:\n",
    "    dir = directions.index(m)\n",
    "    nx = x + x_dir[dir]\n",
    "    ny = y + y_dir[dir]\n",
    "    if (nx in range(1,N+1)) and (ny in range(1, N+1)):\n",
    "        x = nx\n",
    "        y = ny\n",
    "        \n",
    "print(y,x)"
   ]
  }
 ],
 "metadata": {
  "kernelspec": {
   "display_name": "Python 3",
   "language": "python",
   "name": "python3"
  },
  "language_info": {
   "codemirror_mode": {
    "name": "ipython",
    "version": 3
   },
   "file_extension": ".py",
   "mimetype": "text/x-python",
   "name": "python",
   "nbconvert_exporter": "python",
   "pygments_lexer": "ipython3",
   "version": "3.8.5"
  }
 },
 "nbformat": 4,
 "nbformat_minor": 4
}
