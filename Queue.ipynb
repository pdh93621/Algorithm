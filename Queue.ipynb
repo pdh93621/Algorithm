{
 "cells": [
  {
   "cell_type": "code",
   "execution_count": 5,
   "metadata": {},
   "outputs": [
    {
     "name": "stdout",
     "output_type": "stream",
     "text": [
      "deque([1, 2, 3, 4, 5])\n",
      "deque([2, 3, 4, 5])\n",
      "deque([3, 4, 5])\n",
      "deque([3, 4, 5, 6])\n",
      "deque([6, 5, 4, 3])\n"
     ]
    }
   ],
   "source": [
    "from collections import deque\n",
    "\n",
    "que = deque()\n",
    "\n",
    "#insert\n",
    "que.append(1)\n",
    "que.append(2)\n",
    "que.append(3)\n",
    "que.append(4)\n",
    "que.append(5)\n",
    "\n",
    "print(que)\n",
    "\n",
    "#delete\n",
    "que.popleft()\n",
    "print(que)\n",
    "\n",
    "que.popleft()\n",
    "print(que)\n",
    "\n",
    "que.append(6)\n",
    "\n",
    "#먼저 들어온 순서부터\n",
    "print(que)\n",
    "\n",
    "#나중에 들어온 순서부터\n",
    "que.reverse()\n",
    "\n",
    "print(que)"
   ]
  },
  {
   "cell_type": "code",
   "execution_count": null,
   "metadata": {},
   "outputs": [],
   "source": []
  }
 ],
 "metadata": {
  "kernelspec": {
   "display_name": "Python 3",
   "language": "python",
   "name": "python3"
  },
  "language_info": {
   "codemirror_mode": {
    "name": "ipython",
    "version": 3
   },
   "file_extension": ".py",
   "mimetype": "text/x-python",
   "name": "python",
   "nbconvert_exporter": "python",
   "pygments_lexer": "ipython3",
   "version": "3.8.5"
  }
 },
 "nbformat": 4,
 "nbformat_minor": 4
}
