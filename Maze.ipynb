{
 "cells": [
  {
   "cell_type": "code",
   "execution_count": 1,
   "metadata": {
    "scrolled": true
   },
   "outputs": [
    {
     "name": "stdout",
     "output_type": "stream",
     "text": [
      "5 6\n",
      "1 0 1 0 1 0\n",
      "1 1 1 1 1 1\n",
      "0 0 0 0 0 1\n",
      "1 1 1 1 1 1\n",
      "1 1 1 1 1 1\n"
     ]
    }
   ],
   "source": [
    "N, M = list(map(int, input().split()))\n",
    "maze = []\n",
    "for n in range(N):\n",
    "    maze.append(list(map(int, input().split())))"
   ]
  },
  {
   "cell_type": "code",
   "execution_count": 30,
   "metadata": {},
   "outputs": [],
   "source": [
    "from collections import deque\n",
    "\n",
    "dn = [1,-1,0,0]\n",
    "dm = [0,0,1,-1] \n",
    "\n",
    "def DFS(maze, n, m):\n",
    "    \n",
    "    queue = deque([[n,m]])\n",
    "    \n",
    "    while queue:\n",
    "        v = queue.popleft()        \n",
    "        for i in range(4):\n",
    "            nn = v[0] + dn[i]\n",
    "            nm = v[1] + dm[i]\n",
    "            if (0 <= nn <= N-1) and (0 <= nm <= M-1) and (maze[nn][nm] == 1) and (maze[nn][nm] != 0):\n",
    "                queue.append([nn,nm])\n",
    "                maze[nn][nm] = maze[v[0]][v[1]] + 1\n",
    "    return maze[N-1][M-1]"
   ]
  },
  {
   "cell_type": "code",
   "execution_count": 31,
   "metadata": {},
   "outputs": [
    {
     "data": {
      "text/plain": [
       "10"
      ]
     },
     "execution_count": 31,
     "metadata": {},
     "output_type": "execute_result"
    }
   ],
   "source": [
    "DFS(maze, 0,0)"
   ]
  }
 ],
 "metadata": {
  "kernelspec": {
   "display_name": "Python 3",
   "language": "python",
   "name": "python3"
  },
  "language_info": {
   "codemirror_mode": {
    "name": "ipython",
    "version": 3
   },
   "file_extension": ".py",
   "mimetype": "text/x-python",
   "name": "python",
   "nbconvert_exporter": "python",
   "pygments_lexer": "ipython3",
   "version": "3.8.5"
  }
 },
 "nbformat": 4,
 "nbformat_minor": 4
}
