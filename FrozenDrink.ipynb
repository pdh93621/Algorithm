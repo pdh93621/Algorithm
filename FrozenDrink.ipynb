{
 "cells": [
  {
   "cell_type": "code",
   "execution_count": 35,
   "metadata": {},
   "outputs": [
    {
     "name": "stdout",
     "output_type": "stream",
     "text": [
      "4 5\n",
      "0 0 1 1 0\n",
      "1 0 1 1 0\n",
      "0 1 1 1 1\n",
      "0 1 1 0 0\n"
     ]
    }
   ],
   "source": [
    "N, M = list(map(int, input().split()))\n",
    "\n",
    "num = []\n",
    "M_dir = [0,0,1,-1]\n",
    "N_dir = [1,-1,0,0]\n",
    "\n",
    "for i in range(N):\n",
    "    num.append(list(map(int, input().split())))"
   ]
  },
  {
   "cell_type": "code",
   "execution_count": 36,
   "metadata": {},
   "outputs": [],
   "source": [
    "def DFS(frame, n, m):\n",
    "    if not frame[n][m]:\n",
    "        frame[n][m] = True\n",
    "        for i in range(4):\n",
    "            nM = m + M_dir[i]\n",
    "            nN = n + N_dir[i]\n",
    "            if (0 <= nM) and (nM <= M-1) and (0 <= nN) and (nN <= N-1):\n",
    "                if not frame[nN][nM]:\n",
    "                    DFS(frame, nN, nM)   \n"
   ]
  },
  {
   "cell_type": "code",
   "execution_count": 37,
   "metadata": {},
   "outputs": [
    {
     "name": "stdout",
     "output_type": "stream",
     "text": [
      "4\n"
     ]
    }
   ],
   "source": [
    "frame = num.copy()\n",
    "count = 0\n",
    "for n in range(N):\n",
    "    for m in range(M):\n",
    "        if not frame[n][m]:\n",
    "            DFS(frame,n,m)\n",
    "            count += 1\n",
    "\n",
    "print(count)\n",
    "        "
   ]
  }
 ],
 "metadata": {
  "kernelspec": {
   "display_name": "Python 3",
   "language": "python",
   "name": "python3"
  },
  "language_info": {
   "codemirror_mode": {
    "name": "ipython",
    "version": 3
   },
   "file_extension": ".py",
   "mimetype": "text/x-python",
   "name": "python",
   "nbconvert_exporter": "python",
   "pygments_lexer": "ipython3",
   "version": "3.8.5"
  }
 },
 "nbformat": 4,
 "nbformat_minor": 4
}
